{
 "cells": [
  {
   "cell_type": "markdown",
   "id": "d315f7df",
   "metadata": {},
   "source": [
    "## Rasyid Andriansyah 2101963\n",
    "## UAS Data Mining"
   ]
  },
  {
   "cell_type": "code",
   "execution_count": 1,
   "id": "c946329d",
   "metadata": {},
   "outputs": [
    {
     "name": "stderr",
     "output_type": "stream",
     "text": [
      "E:\\anaconda3\\lib\\site-packages\\xgboost\\compat.py:36: FutureWarning: pandas.Int64Index is deprecated and will be removed from pandas in a future version. Use pandas.Index with the appropriate dtype instead.\n",
      "  from pandas import MultiIndex, Int64Index\n"
     ]
    }
   ],
   "source": [
    "# Import library yang dibutuhkan\n",
    "import numpy as np\n",
    "import pandas as pd\n",
    "import sklearn as sk\n",
    "import matplotlib.pyplot as plt\n",
    "import seaborn as sns\n",
    "from sklearn.metrics import accuracy_score, confusion_matrix\n",
    "from datetime import datetime,date\n",
    "from time import strptime\n",
    "from sklearn import preprocessing \n",
    "from sklearn.tree import DecisionTreeClassifier\n",
    "from sklearn.model_selection import train_test_split, cross_val_score, GridSearchCV\n",
    "from sklearn.preprocessing import StandardScaler\n",
    "from sklearn.metrics import accuracy_score\n",
    "from sklearn.metrics import classification_report\n",
    "from sklearn.metrics import f1_score\n",
    "from sklearn.metrics import precision_score\n",
    "from sklearn.metrics import confusion_matrix\n",
    "from sklearn.ensemble import RandomForestClassifier\n",
    "from sklearn.metrics import recall_score\n",
    "from xgboost import XGBClassifier\n",
    "from sklearn.svm import SVC\n",
    "pd.set_option('display.max_columns', 500)\n",
    "\n",
    "# Import warnings filter\n",
    "from warnings import simplefilter"
   ]
  },
  {
   "cell_type": "markdown",
   "id": "efbf7aa5",
   "metadata": {},
   "source": [
    "Saya memakai dataset naik haji karena menurut saya data tersebut cukup menarik untuk diklasifikasikan"
   ]
  },
  {
   "cell_type": "code",
   "execution_count": 2,
   "id": "dc6d1c6c",
   "metadata": {},
   "outputs": [
    {
     "name": "stdout",
     "output_type": "stream",
     "text": [
      "(245, 3)\n",
      "['prov', 'tahun', 'jumlah_naik_haji']\n"
     ]
    }
   ],
   "source": [
    "df =pd.read_csv('dataset_uas\\jumlah_naik_haji.csv')\n",
    "\n",
    "# Menampilkan atribut yang terdapat di dalam data frame beserta tipe datanya\n",
    "print(df.shape)\n",
    "\n",
    "# Menampilkan data teratas di dalam data frame\n",
    "print(list(df))\n",
    "\n",
    "\n"
   ]
  },
  {
   "cell_type": "code",
   "execution_count": 3,
   "id": "83cff1d2",
   "metadata": {},
   "outputs": [
    {
     "data": {
      "text/html": [
       "<div>\n",
       "<style scoped>\n",
       "    .dataframe tbody tr th:only-of-type {\n",
       "        vertical-align: middle;\n",
       "    }\n",
       "\n",
       "    .dataframe tbody tr th {\n",
       "        vertical-align: top;\n",
       "    }\n",
       "\n",
       "    .dataframe thead th {\n",
       "        text-align: right;\n",
       "    }\n",
       "</style>\n",
       "<table border=\"1\" class=\"dataframe\">\n",
       "  <thead>\n",
       "    <tr style=\"text-align: right;\">\n",
       "      <th></th>\n",
       "      <th>prov</th>\n",
       "      <th>tahun</th>\n",
       "      <th>jumlah_naik_haji</th>\n",
       "    </tr>\n",
       "  </thead>\n",
       "  <tbody>\n",
       "    <tr>\n",
       "      <th>0</th>\n",
       "      <td>ACEH</td>\n",
       "      <td>2016</td>\n",
       "      <td>3135.0</td>\n",
       "    </tr>\n",
       "    <tr>\n",
       "      <th>1</th>\n",
       "      <td>SUMATERA UTARA</td>\n",
       "      <td>2016</td>\n",
       "      <td>6529.0</td>\n",
       "    </tr>\n",
       "    <tr>\n",
       "      <th>2</th>\n",
       "      <td>SUMATERA BARAT</td>\n",
       "      <td>2016</td>\n",
       "      <td>3576.0</td>\n",
       "    </tr>\n",
       "    <tr>\n",
       "      <th>3</th>\n",
       "      <td>RIAU</td>\n",
       "      <td>2016</td>\n",
       "      <td>4032.0</td>\n",
       "    </tr>\n",
       "    <tr>\n",
       "      <th>4</th>\n",
       "      <td>JAMBI</td>\n",
       "      <td>2016</td>\n",
       "      <td>2100.0</td>\n",
       "    </tr>\n",
       "    <tr>\n",
       "      <th>5</th>\n",
       "      <td>SUMATERA SELATAN</td>\n",
       "      <td>2016</td>\n",
       "      <td>5082.0</td>\n",
       "    </tr>\n",
       "    <tr>\n",
       "      <th>6</th>\n",
       "      <td>BENGKULU</td>\n",
       "      <td>2016</td>\n",
       "      <td>1283.0</td>\n",
       "    </tr>\n",
       "    <tr>\n",
       "      <th>7</th>\n",
       "      <td>LAMPUNG</td>\n",
       "      <td>2016</td>\n",
       "      <td>5010.0</td>\n",
       "    </tr>\n",
       "    <tr>\n",
       "      <th>8</th>\n",
       "      <td>KEP. BANGKA BELITUNG</td>\n",
       "      <td>2016</td>\n",
       "      <td>729.0</td>\n",
       "    </tr>\n",
       "    <tr>\n",
       "      <th>9</th>\n",
       "      <td>KEP. RIAU</td>\n",
       "      <td>2016</td>\n",
       "      <td>793.0</td>\n",
       "    </tr>\n",
       "  </tbody>\n",
       "</table>\n",
       "</div>"
      ],
      "text/plain": [
       "                   prov  tahun  jumlah_naik_haji\n",
       "0                  ACEH   2016            3135.0\n",
       "1        SUMATERA UTARA   2016            6529.0\n",
       "2        SUMATERA BARAT   2016            3576.0\n",
       "3                  RIAU   2016            4032.0\n",
       "4                 JAMBI   2016            2100.0\n",
       "5      SUMATERA SELATAN   2016            5082.0\n",
       "6              BENGKULU   2016            1283.0\n",
       "7               LAMPUNG   2016            5010.0\n",
       "8  KEP. BANGKA BELITUNG   2016             729.0\n",
       "9             KEP. RIAU   2016             793.0"
      ]
     },
     "execution_count": 3,
     "metadata": {},
     "output_type": "execute_result"
    }
   ],
   "source": [
    "df.head(10)"
   ]
  },
  {
   "cell_type": "code",
   "execution_count": 4,
   "id": "f3b2c66c",
   "metadata": {},
   "outputs": [
    {
     "data": {
      "text/plain": [
       "prov                0\n",
       "tahun               0\n",
       "jumlah_naik_haji    7\n",
       "dtype: int64"
      ]
     },
     "execution_count": 4,
     "metadata": {},
     "output_type": "execute_result"
    }
   ],
   "source": [
    "df.isnull().sum()"
   ]
  },
  {
   "cell_type": "markdown",
   "id": "e82a2e80",
   "metadata": {},
   "source": [
    "Terlihat bahwa data masih memiliki nilai NULL"
   ]
  },
  {
   "cell_type": "code",
   "execution_count": 5,
   "id": "cc9f192c",
   "metadata": {},
   "outputs": [
    {
     "name": "stdout",
     "output_type": "stream",
     "text": [
      "<class 'pandas.core.frame.DataFrame'>\n",
      "RangeIndex: 245 entries, 0 to 244\n",
      "Data columns (total 3 columns):\n",
      " #   Column            Non-Null Count  Dtype  \n",
      "---  ------            --------------  -----  \n",
      " 0   prov              245 non-null    object \n",
      " 1   tahun             245 non-null    int64  \n",
      " 2   jumlah_naik_haji  238 non-null    float64\n",
      "dtypes: float64(1), int64(1), object(1)\n",
      "memory usage: 5.9+ KB\n"
     ]
    }
   ],
   "source": [
    "df.info()"
   ]
  },
  {
   "cell_type": "markdown",
   "id": "83c3958e",
   "metadata": {},
   "source": [
    "Saya rata-ratakan data null nya karena asumsi saya tiap provinsi punya jatah untuk berangkat haji, jadi tidak mungkin di nol kan"
   ]
  },
  {
   "cell_type": "code",
   "execution_count": 6,
   "id": "523fd506",
   "metadata": {},
   "outputs": [],
   "source": [
    "df['jumlah_naik_haji'].fillna(df['jumlah_naik_haji'].median(),inplace=True)"
   ]
  },
  {
   "cell_type": "code",
   "execution_count": 7,
   "id": "d22bdbf2",
   "metadata": {},
   "outputs": [],
   "source": [
    "#Mengubah tipe data\n",
    "df['jumlah_naik_haji'] = df.jumlah_naik_haji.astype(int)\n",
    "df['prov'] = df.prov.astype(\"category\")\n",
    "df['tahun'] = df.tahun.astype(\"category\")"
   ]
  },
  {
   "cell_type": "markdown",
   "id": "801d339c",
   "metadata": {},
   "source": [
    "Masih Terdapat anomali, yaitu provinsi INDONESIA"
   ]
  },
  {
   "cell_type": "code",
   "execution_count": 8,
   "id": "9eb4a625",
   "metadata": {},
   "outputs": [
    {
     "data": {
      "text/html": [
       "<div>\n",
       "<style scoped>\n",
       "    .dataframe tbody tr th:only-of-type {\n",
       "        vertical-align: middle;\n",
       "    }\n",
       "\n",
       "    .dataframe tbody tr th {\n",
       "        vertical-align: top;\n",
       "    }\n",
       "\n",
       "    .dataframe thead th {\n",
       "        text-align: right;\n",
       "    }\n",
       "</style>\n",
       "<table border=\"1\" class=\"dataframe\">\n",
       "  <thead>\n",
       "    <tr style=\"text-align: right;\">\n",
       "      <th></th>\n",
       "      <th>prov</th>\n",
       "      <th>tahun</th>\n",
       "      <th>jumlah_naik_haji</th>\n",
       "    </tr>\n",
       "  </thead>\n",
       "  <tbody>\n",
       "    <tr>\n",
       "      <th>34</th>\n",
       "      <td>INDONESIA</td>\n",
       "      <td>2016</td>\n",
       "      <td>154441</td>\n",
       "    </tr>\n",
       "    <tr>\n",
       "      <th>69</th>\n",
       "      <td>INDONESIA</td>\n",
       "      <td>2015</td>\n",
       "      <td>154455</td>\n",
       "    </tr>\n",
       "    <tr>\n",
       "      <th>104</th>\n",
       "      <td>INDONESIA</td>\n",
       "      <td>2014</td>\n",
       "      <td>154467</td>\n",
       "    </tr>\n",
       "    <tr>\n",
       "      <th>139</th>\n",
       "      <td>INDONESIA</td>\n",
       "      <td>2013</td>\n",
       "      <td>154546</td>\n",
       "    </tr>\n",
       "    <tr>\n",
       "      <th>174</th>\n",
       "      <td>INDONESIA</td>\n",
       "      <td>2012</td>\n",
       "      <td>192291</td>\n",
       "    </tr>\n",
       "    <tr>\n",
       "      <th>209</th>\n",
       "      <td>INDONESIA</td>\n",
       "      <td>2011</td>\n",
       "      <td>199849</td>\n",
       "    </tr>\n",
       "    <tr>\n",
       "      <th>244</th>\n",
       "      <td>INDONESIA</td>\n",
       "      <td>2010</td>\n",
       "      <td>196206</td>\n",
       "    </tr>\n",
       "  </tbody>\n",
       "</table>\n",
       "</div>"
      ],
      "text/plain": [
       "          prov tahun  jumlah_naik_haji\n",
       "34   INDONESIA  2016            154441\n",
       "69   INDONESIA  2015            154455\n",
       "104  INDONESIA  2014            154467\n",
       "139  INDONESIA  2013            154546\n",
       "174  INDONESIA  2012            192291\n",
       "209  INDONESIA  2011            199849\n",
       "244  INDONESIA  2010            196206"
      ]
     },
     "execution_count": 8,
     "metadata": {},
     "output_type": "execute_result"
    }
   ],
   "source": [
    "df.loc[(df.prov == \"INDONESIA\")]"
   ]
  },
  {
   "cell_type": "markdown",
   "id": "db6bb965",
   "metadata": {},
   "source": [
    "Kita drop Provinsi INDONESIA"
   ]
  },
  {
   "cell_type": "code",
   "execution_count": 9,
   "id": "7d038d31",
   "metadata": {},
   "outputs": [],
   "source": [
    "# drop provinsi indonesia\n",
    "df = df.drop(labels=[34,69, 104, 139, 174, 209, 244], axis=0)"
   ]
  },
  {
   "cell_type": "markdown",
   "id": "9b710299",
   "metadata": {},
   "source": [
    "# EDA"
   ]
  },
  {
   "cell_type": "code",
   "execution_count": 10,
   "id": "b3e3a910",
   "metadata": {},
   "outputs": [
    {
     "data": {
      "image/png": "[encoded data removed]",
      "text/plain": [
       "<Figure size 576x432 with 2 Axes>"
      ]
     },
     "metadata": {
      "needs_background": "light"
     },
     "output_type": "display_data"
    }
   ],
   "source": [
    "# Melihat korelasi dari matrix\n",
    "plt.figure(figsize=(8,6))\n",
    "corr=df.corr()\n",
    "plt.title(\"Correlation Matrix\",fontsize=\"15\")\n",
    "sns.heatmap(corr, \n",
    "            xticklabels=corr.columns.values,\n",
    "            yticklabels=corr.columns.values);\n",
    "\n"
   ]
  },
  {
   "cell_type": "markdown",
   "id": "cb1321ce",
   "metadata": {},
   "source": [
    "Dapat kita lihat bahwa korelasi antara jumlah naik haji dengan tahun memiliki korelasi yang cukup berpengaruh satu sama lain"
   ]
  },
  {
   "cell_type": "code",
   "execution_count": 11,
   "id": "a8bfe27c",
   "metadata": {},
   "outputs": [
    {
     "data": {
      "text/plain": [
       "<AxesSubplot:title={'center':'Rata-rata jumlah naik haji per provinsi '}, xlabel='prov'>"
      ]
     },
     "execution_count": 11,
     "metadata": {},
     "output_type": "execute_result"
    },
    {
     "data": {
      "image/png": "[encoded data removed]",
      "text/plain": [
       "<Figure size 720x432 with 1 Axes>"
      ]
     },
     "metadata": {
      "needs_background": "light"
     },
     "output_type": "display_data"
    }
   ],
   "source": [
    "# Melihat rata-rata pengeluaran dari berbagai kota yang berbeda\n",
    "df[['prov','jumlah_naik_haji']].groupby('prov').mean().sort_values(by='jumlah_naik_haji', ascending=False).plot.bar(figsize=(10,6), rot=75, title='Rata-rata jumlah naik haji per provinsi ')"
   ]
  },
  {
   "cell_type": "markdown",
   "id": "4f46cf3c",
   "metadata": {},
   "source": [
    "### Dari Plot tersebut kita lihat bahwa provinsi jawa barat memiliki rerata paling tinggi"
   ]
  },
  {
   "cell_type": "code",
   "execution_count": 12,
   "id": "8d6a0ebe",
   "metadata": {},
   "outputs": [
    {
     "data": {
      "text/plain": [
       "(array([ 0,  1,  2,  3,  4,  5,  6,  7,  8,  9, 10, 11, 12, 13, 14, 15, 16,\n",
       "        17, 18, 19, 20, 21, 22, 23, 24, 25, 26, 27, 28, 29, 30, 31, 32, 33,\n",
       "        34]),\n",
       " [Text(0, 0, 'ACEH'),\n",
       "  Text(1, 0, 'BALI'),\n",
       "  Text(2, 0, 'BANTEN'),\n",
       "  Text(3, 0, 'BENGKULU'),\n",
       "  Text(4, 0, 'DI YOGYAKARTA'),\n",
       "  Text(5, 0, 'DKI JAKARTA'),\n",
       "  Text(6, 0, 'GORONTALO'),\n",
       "  Text(7, 0, 'INDONESIA'),\n",
       "  Text(8, 0, 'JAMBI'),\n",
       "  Text(9, 0, 'JAWA BARAT'),\n",
       "  Text(10, 0, 'JAWA TENGAH'),\n",
       "  Text(11, 0, 'JAWA TIMUR'),\n",
       "  Text(12, 0, 'KALIMANTAN BARAT'),\n",
       "  Text(13, 0, 'KALIMANTAN SELATAN'),\n",
       "  Text(14, 0, 'KALIMANTAN TENGAH'),\n",
       "  Text(15, 0, 'KALIMANTAN TIMUR'),\n",
       "  Text(16, 0, 'KALIMANTAN UTARA'),\n",
       "  Text(17, 0, 'KEP. BANGKA BELITUNG'),\n",
       "  Text(18, 0, 'KEP. RIAU'),\n",
       "  Text(19, 0, 'LAMPUNG'),\n",
       "  Text(20, 0, 'MALUKU'),\n",
       "  Text(21, 0, 'MALUKU UTARA'),\n",
       "  Text(22, 0, 'NUSA TENGGARA BARAT'),\n",
       "  Text(23, 0, 'NUSA TENGGARA TIMUR'),\n",
       "  Text(24, 0, 'PAPUA'),\n",
       "  Text(25, 0, 'PAPUA BARAT'),\n",
       "  Text(26, 0, 'RIAU'),\n",
       "  Text(27, 0, 'SULAWESI BARAT'),\n",
       "  Text(28, 0, 'SULAWESI SELATAN'),\n",
       "  Text(29, 0, 'SULAWESI TENGAH'),\n",
       "  Text(30, 0, 'SULAWESI TENGGARA'),\n",
       "  Text(31, 0, 'SULAWESI UTARA'),\n",
       "  Text(32, 0, 'SUMATERA BARAT'),\n",
       "  Text(33, 0, 'SUMATERA SELATAN'),\n",
       "  Text(34, 0, 'SUMATERA UTARA')])"
      ]
     },
     "execution_count": 12,
     "metadata": {},
     "output_type": "execute_result"
    },
    {
     "data": {
      "image/png": "[encoded data removed]",
      "text/plain": [
       "<Figure size 720x288 with 1 Axes>"
      ]
     },
     "metadata": {
      "needs_background": "light"
     },
     "output_type": "display_data"
    }
   ],
   "source": [
    "c = sns.catplot(x=\"prov\", y=\"jumlah_naik_haji\", data=df).set(title=\"Hubungan antara prov jumlah naik haji\")\n",
    "c.fig.set_size_inches(10,4)\n",
    "plt.xticks(rotation=90)\n"
   ]
  },
  {
   "cell_type": "markdown",
   "id": "5896a124",
   "metadata": {},
   "source": [
    "## hubungan yang paling tinggi adalah provinsi jawa barat"
   ]
  },
  {
   "cell_type": "code",
   "execution_count": 13,
   "id": "411f7cac",
   "metadata": {},
   "outputs": [
    {
     "name": "stdout",
     "output_type": "stream",
     "text": [
      "(442, 3)\n",
      "['prov', 'tahun', 'kategori_pmi']\n"
     ]
    }
   ],
   "source": [
    "df2 =pd.read_csv('dataset_uas\\pmi.csv')\n",
    "\n",
    "# Menampilkan atribut yang terdapat di dalam data frame beserta tipe datanya\n",
    "print(df2.shape)\n",
    "\n",
    "# Menampilkan data teratas di dalam data frame\n",
    "print(list(df2))"
   ]
  },
  {
   "cell_type": "markdown",
   "id": "6353bf51",
   "metadata": {},
   "source": [
    "### Merge"
   ]
  },
  {
   "cell_type": "code",
   "execution_count": 14,
   "id": "80aaa4ad",
   "metadata": {},
   "outputs": [
    {
     "data": {
      "text/html": [
       "<div>\n",
       "<style scoped>\n",
       "    .dataframe tbody tr th:only-of-type {\n",
       "        vertical-align: middle;\n",
       "    }\n",
       "\n",
       "    .dataframe tbody tr th {\n",
       "        vertical-align: top;\n",
       "    }\n",
       "\n",
       "    .dataframe thead th {\n",
       "        text-align: right;\n",
       "    }\n",
       "</style>\n",
       "<table border=\"1\" class=\"dataframe\">\n",
       "  <thead>\n",
       "    <tr style=\"text-align: right;\">\n",
       "      <th></th>\n",
       "      <th>prov</th>\n",
       "      <th>tahun</th>\n",
       "      <th>jumlah_naik_haji</th>\n",
       "      <th>kategori_pmi</th>\n",
       "    </tr>\n",
       "  </thead>\n",
       "  <tbody>\n",
       "    <tr>\n",
       "      <th>0</th>\n",
       "      <td>ACEH</td>\n",
       "      <td>2016</td>\n",
       "      <td>3135</td>\n",
       "      <td>TINGGI</td>\n",
       "    </tr>\n",
       "    <tr>\n",
       "      <th>1</th>\n",
       "      <td>SUMATERA UTARA</td>\n",
       "      <td>2016</td>\n",
       "      <td>6529</td>\n",
       "      <td>TINGGI</td>\n",
       "    </tr>\n",
       "    <tr>\n",
       "      <th>2</th>\n",
       "      <td>SUMATERA BARAT</td>\n",
       "      <td>2016</td>\n",
       "      <td>3576</td>\n",
       "      <td>TINGGI</td>\n",
       "    </tr>\n",
       "    <tr>\n",
       "      <th>3</th>\n",
       "      <td>RIAU</td>\n",
       "      <td>2016</td>\n",
       "      <td>4032</td>\n",
       "      <td>TINGGI</td>\n",
       "    </tr>\n",
       "    <tr>\n",
       "      <th>4</th>\n",
       "      <td>JAMBI</td>\n",
       "      <td>2016</td>\n",
       "      <td>2100</td>\n",
       "      <td>SEDANG</td>\n",
       "    </tr>\n",
       "  </tbody>\n",
       "</table>\n",
       "</div>"
      ],
      "text/plain": [
       "             prov  tahun  jumlah_naik_haji kategori_pmi\n",
       "0            ACEH   2016              3135       TINGGI\n",
       "1  SUMATERA UTARA   2016              6529       TINGGI\n",
       "2  SUMATERA BARAT   2016              3576       TINGGI\n",
       "3            RIAU   2016              4032       TINGGI\n",
       "4           JAMBI   2016              2100       SEDANG"
      ]
     },
     "execution_count": 14,
     "metadata": {},
     "output_type": "execute_result"
    }
   ],
   "source": [
    "df_merge = pd.merge(df, df2, how='left',on=[\"prov\", \"tahun\"])\n",
    "df_merge.head(5)"
   ]
  },
  {
   "cell_type": "markdown",
   "id": "5222fdaa",
   "metadata": {},
   "source": [
    "## One hot Encoding"
   ]
  },
  {
   "cell_type": "code",
   "execution_count": 15,
   "id": "1e917d3a",
   "metadata": {},
   "outputs": [
    {
     "data": {
      "text/html": [
       "<div>\n",
       "<style scoped>\n",
       "    .dataframe tbody tr th:only-of-type {\n",
       "        vertical-align: middle;\n",
       "    }\n",
       "\n",
       "    .dataframe tbody tr th {\n",
       "        vertical-align: top;\n",
       "    }\n",
       "\n",
       "    .dataframe thead th {\n",
       "        text-align: right;\n",
       "    }\n",
       "</style>\n",
       "<table border=\"1\" class=\"dataframe\">\n",
       "  <thead>\n",
       "    <tr style=\"text-align: right;\">\n",
       "      <th></th>\n",
       "      <th>prov</th>\n",
       "      <th>tahun</th>\n",
       "      <th>jumlah_naik_haji</th>\n",
       "    </tr>\n",
       "  </thead>\n",
       "  <tbody>\n",
       "    <tr>\n",
       "      <th>0</th>\n",
       "      <td>ACEH</td>\n",
       "      <td>2016</td>\n",
       "      <td>3135</td>\n",
       "    </tr>\n",
       "    <tr>\n",
       "      <th>1</th>\n",
       "      <td>SUMATERA UTARA</td>\n",
       "      <td>2016</td>\n",
       "      <td>6529</td>\n",
       "    </tr>\n",
       "    <tr>\n",
       "      <th>2</th>\n",
       "      <td>SUMATERA BARAT</td>\n",
       "      <td>2016</td>\n",
       "      <td>3576</td>\n",
       "    </tr>\n",
       "    <tr>\n",
       "      <th>3</th>\n",
       "      <td>RIAU</td>\n",
       "      <td>2016</td>\n",
       "      <td>4032</td>\n",
       "    </tr>\n",
       "    <tr>\n",
       "      <th>4</th>\n",
       "      <td>JAMBI</td>\n",
       "      <td>2016</td>\n",
       "      <td>2100</td>\n",
       "    </tr>\n",
       "  </tbody>\n",
       "</table>\n",
       "</div>"
      ],
      "text/plain": [
       "             prov tahun  jumlah_naik_haji\n",
       "0            ACEH  2016              3135\n",
       "1  SUMATERA UTARA  2016              6529\n",
       "2  SUMATERA BARAT  2016              3576\n",
       "3            RIAU  2016              4032\n",
       "4           JAMBI  2016              2100"
      ]
     },
     "execution_count": 15,
     "metadata": {},
     "output_type": "execute_result"
    }
   ],
   "source": [
    "# Proses One Hot Encoding untuk atribut color, salutation, state, dan day_of_week\n",
    "df_merge = pd.get_dummies(data=df_merge, columns=['prov','tahun'])\n",
    "\n",
    "df.head()\n"
   ]
  },
  {
   "cell_type": "code",
   "execution_count": 16,
   "id": "e6745010",
   "metadata": {},
   "outputs": [],
   "source": [
    "#menyiapkan data train dan test, cara pertama adalah dengan teknik hold out. \n",
    "from sklearn.model_selection import train_test_split\n",
    "\n",
    "X = df_merge.drop(['kategori_pmi'],axis=1) #training features\n",
    "\n",
    "Y = df_merge['kategori_pmi'] # target variable\n",
    "X_train, X_test, Y_train, Y_test=train_test_split(X, Y, test_size=0.2, random_state=123)\n",
    "\n",
    "# Menyimpan nama kolom untuk keperluan prediksi nanti\n",
    "import pickle\n",
    "with open('x_train_columns.pickle', 'wb') as fp:\n",
    "    pickle.dump(X_train.columns, fp)"
   ]
  },
  {
   "cell_type": "code",
   "execution_count": 17,
   "id": "c1449552",
   "metadata": {},
   "outputs": [
    {
     "name": "stdout",
     "output_type": "stream",
     "text": [
      "Akurasi 0.625\n",
      "               precision    recall  f1-score   support\n",
      "\n",
      "SANGAT RENDAH       0.00      0.00      0.00         2\n",
      "       SEDANG       0.88      0.70      0.78        40\n",
      "       TINGGI       0.20      0.33      0.25         6\n",
      "\n",
      "     accuracy                           0.62        48\n",
      "    macro avg       0.36      0.34      0.34        48\n",
      " weighted avg       0.75      0.62      0.68        48\n",
      "\n"
     ]
    }
   ],
   "source": [
    "##Pembentukan model random forest\n",
    "clf =RandomForestClassifier(random_state=1,n_estimators=200,class_weight='balanced',\n",
    "                    min_samples_leaf=5,\n",
    "                       min_samples_split=10)\n",
    "clf.fit(X_train, Y_train)\n",
    "Y_pred = clf.predict(X_test)\n",
    "acc = accuracy_score(Y_test, Y_pred)\n",
    "print(\"Akurasi {}\".format(acc))\n",
    "print(classification_report(Y_test, Y_pred))\n",
    "\n",
    "\n",
    "\n"
   ]
  },
  {
   "cell_type": "code",
   "execution_count": null,
   "id": "d7c71b81",
   "metadata": {},
   "outputs": [],
   "source": []
  }
 ],
 "metadata": {
  "kernelspec": {
   "display_name": "Python 3 (ipykernel)",
   "language": "python",
   "name": "python3"
  },
  "language_info": {
   "codemirror_mode": {
    "name": "ipython",
    "version": 3
   },
   "file_extension": ".py",
   "mimetype": "text/x-python",
   "name": "python",
   "nbconvert_exporter": "python",
   "pygments_lexer": "ipython3",
   "version": "3.9.12"
  }
 },
 "nbformat": 4,
 "nbformat_minor": 5
}
